{
 "cells": [
  {
   "cell_type": "markdown",
   "id": "74f9e63e-a5f1-4395-888e-a0678a333fcd",
   "metadata": {},
   "source": [
    "# Week 1: Introduction to Python Fundamentals\n",
    "This weeks content will cover the very basics of the built-in Python Data Types:\n",
    "* Numerics\n",
    "* Sequences\n",
    "* Mappings\n",
    "* Set\n",
    "* Booleans\n",
    "* Binaries\n",
    "\n",
    "Note that we will not be covering any *object methods* until Week 7, where we will learn about **object-oriented programming**.\n",
    "\n",
    "Please work through this notebook, making sure every code cell is run, and writing code to solve Excercises where appplicable. Remember to run a cell we click on it and press the play button in the toolbar above, or use the shortcut Ctrl+enter. For more help on how to use Jupyter, please revise the introductory slides (email me at kaiya.raby@nadara.com if you do not have access to these.\n",
    "\n",
    "Answers to this worksheet are available [here](https://github.com/kaiyaraby/wind_energy_analytics_ke/tree/main/Python/Week%201%20-%20Introduction%20to%20Python%20Fundamentals).\n",
    "\n",
    "The 'office-hour/tutorial' for this week will be on Wednesday 23rd from 15:00-16:00 BST. Please attend if you have any questions regarding this work, or would like to carry out this session with assistance available.\n",
    "\n",
    "  \n",
    "## 1: Variables\n",
    "Variables are containers for storing data values. These data values can be many different things such as numbers, strings of letters, lists and much more. Variables are created when we assign values to them using the assignment operator (=). Let's assign the number 1 to the variable x."
   ]
  },
  {
   "cell_type": "code",
   "execution_count": 1,
   "id": "d3672ef9-f1cd-493e-9312-6d835a3107ee",
   "metadata": {},
   "outputs": [],
   "source": [
    "x = 1"
   ]
  },
  {
   "cell_type": "markdown",
   "id": "d26f195c-1ff4-4444-9b08-da7e24bc9f3b",
   "metadata": {},
   "source": [
    "We can check that this has been assigned correctly by printing the value of our operator. We do this by using the **print()** function in Python."
   ]
  },
  {
   "cell_type": "code",
   "execution_count": 2,
   "id": "4f553c0d-8569-4ad9-96de-787e511d69c1",
   "metadata": {},
   "outputs": [
    {
     "name": "stdout",
     "output_type": "stream",
     "text": [
      "1\n"
     ]
    }
   ],
   "source": [
    "print(x)"
   ]
  },
  {
   "cell_type": "markdown",
   "id": "d5163295-4614-46cb-bfd7-bd500e721404",
   "metadata": {},
   "source": [
    "Unlike many programming languages, when we define a variable in Python we do not need to declare what type of data we are storing. This is automatically determined when we assigned our variable. We can check the *type* of data our variable is storing using the **type()** function"
   ]
  },
  {
   "cell_type": "code",
   "execution_count": 3,
   "id": "19da1006-1c01-4669-aae6-71142fb07a2b",
   "metadata": {},
   "outputs": [
    {
     "data": {
      "text/plain": [
       "int"
      ]
     },
     "execution_count": 3,
     "metadata": {},
     "output_type": "execute_result"
    }
   ],
   "source": [
    "type(x)"
   ]
  },
  {
   "cell_type": "markdown",
   "id": "4f3395a7-8fd6-42f2-80e2-74441acd03fe",
   "metadata": {},
   "source": [
    "In this case we see the variable has been set to type **int** (an integer). However, this doesn't mean our variable must be an integer - we can change their type by altering or reassigning them. Let's redefine x to be a string."
   ]
  },
  {
   "cell_type": "code",
   "execution_count": 4,
   "id": "ced849df-3370-49a5-98c6-264e6da780b5",
   "metadata": {},
   "outputs": [],
   "source": [
    "x = 'one'"
   ]
  },
  {
   "cell_type": "markdown",
   "id": "c3429031-604f-4956-8c1c-610334e76a5e",
   "metadata": {},
   "source": [
    "#### Exercise 1.1\n",
    "Type code in the cell below to check the type of x."
   ]
  },
  {
   "cell_type": "code",
   "execution_count": 5,
   "id": "d55b9b7e-c8e6-48d4-8184-0989fb26b8de",
   "metadata": {},
   "outputs": [
    {
     "data": {
      "text/plain": [
       "str"
      ]
     },
     "execution_count": 5,
     "metadata": {},
     "output_type": "execute_result"
    }
   ],
   "source": [
    "type(x)"
   ]
  },
  {
   "cell_type": "markdown",
   "id": "05d24cd6-5d8e-423d-b656-3d98613643af",
   "metadata": {},
   "source": [
    "## 2: Numeric Types - integers, floats and complex numbers\n",
    "Python has three different data types to store and use numbers, these are\n",
    "* **Python Integer (int)**: whole numbers with no decimal points; these can be negative, and there is no limit on how long they are"
   ]
  },
  {
   "cell_type": "code",
   "execution_count": 6,
   "id": "7995f178-5e8f-4eb5-ac9b-270baf39a3ac",
   "metadata": {},
   "outputs": [
    {
     "data": {
      "text/plain": [
       "int"
      ]
     },
     "execution_count": 6,
     "metadata": {},
     "output_type": "execute_result"
    }
   ],
   "source": [
    "x = 3\n",
    "type(x)"
   ]
  },
  {
   "cell_type": "markdown",
   "id": "535f3a50-e9b0-4c7c-8b0d-aabbaeb9fdff",
   "metadata": {},
   "source": [
    "* **Float (float)**: used to represent real numbers with a fractional component, able to store decimal values and perform mathematical calculations that require precision. This data type is stored using binary representation, so arithmetic operations to many decimal points often lead to rounding errors. Other data types are available using external *packages* which we will learn about in Week 9."
   ]
  },
  {
   "cell_type": "code",
   "execution_count": 7,
   "id": "81fc1608-db8a-422c-9132-db167a2baa79",
   "metadata": {},
   "outputs": [
    {
     "data": {
      "text/plain": [
       "float"
      ]
     },
     "execution_count": 7,
     "metadata": {},
     "output_type": "execute_result"
    }
   ],
   "source": [
    "x = 3.141592\n",
    "type(x)"
   ]
  },
  {
   "cell_type": "markdown",
   "id": "d90331e6-50a7-4954-94fe-4c20bc59c803",
   "metadata": {},
   "source": [
    "* **Complex (complex)**: numbers with real and *imaginary* parts. These are used in some parts of mathematics and engineering, but don't worry too much about understanding this concept! A complex number is represented as\n",
    "$$a+bj$$ where a is the real part, b is the imaginary part and j is the imaginary unit\n",
    "$$j=\\sqrt{-1}.$$\n",
    "We create a complex number in Python using the syntax complex(a,b)."
   ]
  },
  {
   "cell_type": "code",
   "execution_count": 8,
   "id": "66d1ecd8-8564-4b60-b67d-28f977af0278",
   "metadata": {},
   "outputs": [
    {
     "data": {
      "text/plain": [
       "complex"
      ]
     },
     "execution_count": 8,
     "metadata": {},
     "output_type": "execute_result"
    }
   ],
   "source": [
    "x = complex(3,1)\n",
    "type(x)"
   ]
  },
  {
   "cell_type": "markdown",
   "id": "013fa9b1-577e-4904-8fec-3c20de2a7e32",
   "metadata": {},
   "source": [
    "#### Arithmetic Operators\n",
    "Run the following cells to see how different numberical operators work. Remember we run a cell by selecting it and pressing the play button in the toolbar at the top of the page, or by using the shortcut Ctrl+enter."
   ]
  },
  {
   "cell_type": "code",
   "execution_count": 9,
   "id": "069c0e96-81eb-4367-bf87-1a3ced745fb9",
   "metadata": {},
   "outputs": [
    {
     "data": {
      "text/plain": [
       "5"
      ]
     },
     "execution_count": 9,
     "metadata": {},
     "output_type": "execute_result"
    }
   ],
   "source": [
    "2 + 3  # Add two numbers with + "
   ]
  },
  {
   "cell_type": "code",
   "execution_count": 10,
   "id": "46c9338e-2c5a-435a-b8cd-facbcc64393a",
   "metadata": {},
   "outputs": [
    {
     "data": {
      "text/plain": [
       "-3"
      ]
     },
     "execution_count": 10,
     "metadata": {},
     "output_type": "execute_result"
    }
   ],
   "source": [
    "5 - 8 # Subtract a number with - "
   ]
  },
  {
   "cell_type": "code",
   "execution_count": 11,
   "id": "33a9f245-481e-47f6-8212-8309ef0d227b",
   "metadata": {
    "scrolled": true
   },
   "outputs": [
    {
     "data": {
      "text/plain": [
       "12"
      ]
     },
     "execution_count": 11,
     "metadata": {},
     "output_type": "execute_result"
    }
   ],
   "source": [
    "3 * 4 # Multiply two numbers with * "
   ]
  },
  {
   "cell_type": "code",
   "execution_count": 12,
   "id": "28ee3426-583e-4434-8027-ea42a5270579",
   "metadata": {},
   "outputs": [
    {
     "data": {
      "text/plain": [
       "32"
      ]
     },
     "execution_count": 12,
     "metadata": {},
     "output_type": "execute_result"
    }
   ],
   "source": [
    "2**5 # Integers can be raised to the power with **"
   ]
  },
  {
   "cell_type": "code",
   "execution_count": 13,
   "id": "27c28eae-7b07-4892-a35c-1f944fb12114",
   "metadata": {},
   "outputs": [
    {
     "data": {
      "text/plain": [
       "3.0"
      ]
     },
     "execution_count": 13,
     "metadata": {},
     "output_type": "execute_result"
    }
   ],
   "source": [
    "6 / 2 # Divide a number by another with /"
   ]
  },
  {
   "cell_type": "code",
   "execution_count": 14,
   "id": "793d046c-09a1-498b-9aea-f73f0e53662d",
   "metadata": {},
   "outputs": [
    {
     "data": {
      "text/plain": [
       "2"
      ]
     },
     "execution_count": 14,
     "metadata": {},
     "output_type": "execute_result"
    }
   ],
   "source": [
    "7 // 3 # Integer divide a number with // "
   ]
  },
  {
   "cell_type": "code",
   "execution_count": 15,
   "id": "5ca3e597-6d35-43db-b4c4-9bbe67094265",
   "metadata": {},
   "outputs": [
    {
     "data": {
      "text/plain": [
       "2"
      ]
     },
     "execution_count": 15,
     "metadata": {},
     "output_type": "execute_result"
    }
   ],
   "source": [
    "8 % 3 # Get the remainder after division with %"
   ]
  },
  {
   "cell_type": "markdown",
   "id": "fe6d7687-aeda-4ba7-8e2e-f1355ba8c618",
   "metadata": {},
   "source": [
    "We can use brackets to separate different parts of an equation, to carry out multiple operations. For example we may write\n",
    "$$\\frac{2+3^7}{5}$$\n",
    "as"
   ]
  },
  {
   "cell_type": "code",
   "execution_count": 16,
   "id": "cf5db9c2-2120-407d-9e9f-ab98515f676e",
   "metadata": {},
   "outputs": [
    {
     "data": {
      "text/plain": [
       "437.8"
      ]
     },
     "execution_count": 16,
     "metadata": {},
     "output_type": "execute_result"
    }
   ],
   "source": [
    "(2 + 3**7)/5"
   ]
  },
  {
   "cell_type": "markdown",
   "id": "db563b58-400c-469e-b1fe-82c28c1a0ee4",
   "metadata": {},
   "source": [
    "We can use these operators on any variable that is of numerical type. Let's define x to be 2.5 and calculate $$x^2+5$$"
   ]
  },
  {
   "cell_type": "code",
   "execution_count": 17,
   "id": "71c70401-a59e-4079-80d9-84593aca016c",
   "metadata": {},
   "outputs": [
    {
     "data": {
      "text/plain": [
       "11.25"
      ]
     },
     "execution_count": 17,
     "metadata": {},
     "output_type": "execute_result"
    }
   ],
   "source": [
    "x = 2.5\n",
    "x**2+5"
   ]
  },
  {
   "cell_type": "markdown",
   "id": "e27d6c59-ddb9-4519-ace7-a346a7a8eb4d",
   "metadata": {},
   "source": [
    "#### Exercise 2.1\n",
    "Write code in the cell below using the mathematical operators we've just learned to calculate the:\n",
    "* Precise answer\n",
    "* Integer answer\n",
    "* Remainder\n",
    "\n",
    "of the following equation\n",
    "\n",
    "$$\\frac{3x^2+2x+7}{5x+4}$$"
   ]
  },
  {
   "cell_type": "code",
   "execution_count": 18,
   "id": "9a4f3c34-bfec-492b-9ccc-c56f3dd53f99",
   "metadata": {},
   "outputs": [],
   "source": [
    "precise = (3*x**2+2*x+7) / (5*x+4)\n",
    "integer = (3*x**2+2*x+7) // (5*x+4)\n",
    "remainer = (3*x**2+2*x+7) % (5*x+4)"
   ]
  },
  {
   "cell_type": "markdown",
   "id": "2629e14c-86c3-46b4-87a6-6aaeb3f3045b",
   "metadata": {},
   "source": [
    "Run the following cells to view the amending arithmetic operators"
   ]
  },
  {
   "cell_type": "code",
   "execution_count": 19,
   "id": "a7c3dfc1-4d5a-4db9-a66f-02bd39b466d4",
   "metadata": {},
   "outputs": [],
   "source": [
    "x = 10"
   ]
  },
  {
   "cell_type": "code",
   "execution_count": 20,
   "id": "6c33449b-2b2d-4195-97d9-5e81ae3221e8",
   "metadata": {},
   "outputs": [
    {
     "data": {
      "text/plain": [
       "20"
      ]
     },
     "execution_count": 20,
     "metadata": {},
     "output_type": "execute_result"
    }
   ],
   "source": [
    "x += 10 #the += operator adds to the variable x\n",
    "x"
   ]
  },
  {
   "cell_type": "code",
   "execution_count": 21,
   "id": "018d2bfd-7175-4731-807a-2b0ffa1df302",
   "metadata": {},
   "outputs": [
    {
     "data": {
      "text/plain": [
       "10"
      ]
     },
     "execution_count": 21,
     "metadata": {},
     "output_type": "execute_result"
    }
   ],
   "source": [
    "x -= 10 #the -= operator takes away from the variable x\n",
    "x"
   ]
  },
  {
   "cell_type": "code",
   "execution_count": 22,
   "id": "6228209c-7562-4b30-a1d4-da3e69f5d1bf",
   "metadata": {},
   "outputs": [
    {
     "data": {
      "text/plain": [
       "2.0"
      ]
     },
     "execution_count": 22,
     "metadata": {},
     "output_type": "execute_result"
    }
   ],
   "source": [
    "x /= 5 #the /= operator divides the variable x\n",
    "x"
   ]
  },
  {
   "cell_type": "code",
   "execution_count": 23,
   "id": "8452d9fb-3d82-4165-9154-eef848613bda",
   "metadata": {},
   "outputs": [
    {
     "data": {
      "text/plain": [
       "4.0"
      ]
     },
     "execution_count": 23,
     "metadata": {},
     "output_type": "execute_result"
    }
   ],
   "source": [
    "x *= 2 #the *= operator multiplies the variable x\n",
    "x"
   ]
  },
  {
   "cell_type": "markdown",
   "id": "f5607b6b-1805-4101-8ac1-137338f05d46",
   "metadata": {},
   "source": [
    "## 3: Sequence Types - strings, lists and tuples\n",
    "### Strings\n",
    "A **string (str)** is a sequence of *characters*. In Python, we define them using quotation marks or inverted commas."
   ]
  },
  {
   "cell_type": "code",
   "execution_count": 24,
   "id": "623ae932-ea50-4fd2-b4c2-80e2e05ffa1c",
   "metadata": {},
   "outputs": [
    {
     "name": "stdout",
     "output_type": "stream",
     "text": [
      "hello\n",
      "world\n"
     ]
    }
   ],
   "source": [
    "string1 = 'hello'\n",
    "string2 = \"world\"\n",
    "print(string1)\n",
    "print(string2)"
   ]
  },
  {
   "cell_type": "markdown",
   "id": "cf61368b-5e74-4684-ba6d-48e8886a8b84",
   "metadata": {},
   "source": [
    "#### String Operators\n",
    "Many of the operators we used with other data types such as numbers, also work on strings but in different ways. "
   ]
  },
  {
   "cell_type": "code",
   "execution_count": 25,
   "id": "5094ceff-cbb8-42df-b880-a28754773c90",
   "metadata": {},
   "outputs": [],
   "source": [
    "added = string1 + string2\n",
    "multiplied = string1*5"
   ]
  },
  {
   "cell_type": "markdown",
   "id": "35a3b24f-819b-4f07-92db-af96bc5464d1",
   "metadata": {},
   "source": [
    "#### Exercise 3.1 \n",
    "Use print statements to print the results of using the + and * operators in the cell above. What do these operators do when applied to strings?"
   ]
  },
  {
   "cell_type": "code",
   "execution_count": 26,
   "id": "a2fcf1a6-047a-4b59-8155-317206106d54",
   "metadata": {},
   "outputs": [
    {
     "name": "stdout",
     "output_type": "stream",
     "text": [
      "helloworld\n",
      "hellohellohellohellohello\n"
     ]
    }
   ],
   "source": [
    "print(added) # combines them \n",
    "print(multiplied) # repeats all the characters in the string"
   ]
  },
  {
   "cell_type": "markdown",
   "id": "74ef4e92-ce7b-48ab-8af6-a9dafcb92635",
   "metadata": {},
   "source": [
    "#### Exercise 3.2\n",
    "Create a third string which when added between string1 and string 2 creates the phrase 'hello, world'"
   ]
  },
  {
   "cell_type": "code",
   "execution_count": 27,
   "id": "5d8ce643-1ff0-4f29-be8f-aa9f3b519944",
   "metadata": {},
   "outputs": [
    {
     "name": "stdout",
     "output_type": "stream",
     "text": [
      "hello, world\n"
     ]
    }
   ],
   "source": [
    "your_string = ', '\n",
    "print(string1+your_string+string2)"
   ]
  },
  {
   "cell_type": "markdown",
   "id": "c1736e8e-06ed-4f10-b2df-ae51c8272021",
   "metadata": {},
   "source": [
    "### Lists\n",
    "A list is a built-in dynamic sized array (automatically grows and shrinks). We can store all types of items (including another list) in a list. We create lists with [], separating elements with a comma."
   ]
  },
  {
   "cell_type": "code",
   "execution_count": 28,
   "id": "0ac853c8-1075-42f3-8152-a1e3bb8c2f5f",
   "metadata": {},
   "outputs": [],
   "source": [
    "x = [1, 3, 2]"
   ]
  },
  {
   "cell_type": "markdown",
   "id": "9cfb25f2-1ce4-4d42-854e-4d14c047e472",
   "metadata": {},
   "source": [
    "The main features in a list are:\n",
    "* Lists are ordered based on how they are added.\n",
    "Accessing items in Lists can be done directly using their position (index), starting from 0. We access the $n^{th}$ element of a list by using the syntax **list[n-1]**."
   ]
  },
  {
   "cell_type": "code",
   "execution_count": 29,
   "id": "c19403c9-c802-484e-9576-6fb2af831db3",
   "metadata": {},
   "outputs": [
    {
     "data": {
      "text/plain": [
       "1"
      ]
     },
     "execution_count": 29,
     "metadata": {},
     "output_type": "execute_result"
    }
   ],
   "source": [
    "x = [1,2,3]\n",
    "x[0] # access the 1st element of the list"
   ]
  },
  {
   "cell_type": "markdown",
   "id": "d4897978-255c-45ff-af6c-85780c2427bb",
   "metadata": {},
   "source": [
    "#### Exercise 3.3\n",
    "Print the third element in the list **x** in the cell below"
   ]
  },
  {
   "cell_type": "code",
   "execution_count": 30,
   "id": "35a682b8-59d0-4e71-baf3-8f052916ae16",
   "metadata": {},
   "outputs": [
    {
     "name": "stdout",
     "output_type": "stream",
     "text": [
      "3\n"
     ]
    }
   ],
   "source": [
    "print(x[2])"
   ]
  },
  {
   "cell_type": "markdown",
   "id": "0c0d00ef-995c-43a3-94cf-144d336d0acb",
   "metadata": {},
   "source": [
    "* Lists can store different data types within them"
   ]
  },
  {
   "cell_type": "code",
   "execution_count": 31,
   "id": "b6e8d985-7d1e-4e80-9557-357bdd404e84",
   "metadata": {},
   "outputs": [],
   "source": [
    "x = [1, 'hello', 2.5, [1,2,3]]"
   ]
  },
  {
   "cell_type": "markdown",
   "id": "c969fa1b-15bf-492c-9afc-20cd66b354ad",
   "metadata": {},
   "source": [
    "#### Exercise 3.4\n",
    "Print the type of the second element in the list **x** in the cell below"
   ]
  },
  {
   "cell_type": "code",
   "execution_count": 32,
   "id": "7df8db91-c872-4edb-9277-b935ac68cb4c",
   "metadata": {},
   "outputs": [
    {
     "name": "stdout",
     "output_type": "stream",
     "text": [
      "<class 'str'>\n"
     ]
    }
   ],
   "source": [
    "print(type(x[1]))"
   ]
  },
  {
   "cell_type": "markdown",
   "id": "f9a8005b-48b1-409b-aa84-39f845fd5f46",
   "metadata": {},
   "source": [
    "* Lists can contain duplicate items"
   ]
  },
  {
   "cell_type": "code",
   "execution_count": 33,
   "id": "8444045b-9442-4cc2-9cb4-e99c43403bf9",
   "metadata": {},
   "outputs": [
    {
     "data": {
      "text/plain": [
       "[1, 1, 1, 2, 3]"
      ]
     },
     "execution_count": 33,
     "metadata": {},
     "output_type": "execute_result"
    }
   ],
   "source": [
    "x = [1,1,1,2,3]\n",
    "x"
   ]
  },
  {
   "cell_type": "markdown",
   "id": "0f1644cf-a3e5-48ae-8ce4-42df34deb010",
   "metadata": {},
   "source": [
    "* Lists in Python are *mutable*, meaning we can modify, replace or delete items within them"
   ]
  },
  {
   "cell_type": "code",
   "execution_count": 34,
   "id": "514af310-6ef0-4237-8ef0-6791f81e4ed8",
   "metadata": {},
   "outputs": [
    {
     "data": {
      "text/plain": [
       "[5, 2, 3]"
      ]
     },
     "execution_count": 34,
     "metadata": {},
     "output_type": "execute_result"
    }
   ],
   "source": [
    "x = [1,2,3]\n",
    "x[0] = 5\n",
    "x"
   ]
  },
  {
   "cell_type": "markdown",
   "id": "0e43a841-b843-473e-9589-ef96b43f0e9d",
   "metadata": {},
   "source": [
    "#### Exercise 3.5\n",
    "Amend the 3rd element in the list **x** to be 10"
   ]
  },
  {
   "cell_type": "code",
   "execution_count": 35,
   "id": "e3788961-18a6-497c-bc8d-37e531c4afc1",
   "metadata": {},
   "outputs": [],
   "source": [
    "x[2] = 10"
   ]
  },
  {
   "cell_type": "markdown",
   "id": "82085342-e524-49f6-ad31-25369cc7b966",
   "metadata": {},
   "source": [
    "#### Exercise 3.6\n",
    "Using the *= operator, multiply the second element in the list **x** by 10"
   ]
  },
  {
   "cell_type": "code",
   "execution_count": 36,
   "id": "9de1efba-e608-408c-85b1-913674cb2042",
   "metadata": {},
   "outputs": [],
   "source": [
    "x[1] *= 10"
   ]
  },
  {
   "cell_type": "markdown",
   "id": "2979b5f7-b96b-4150-b680-238244a2670e",
   "metadata": {},
   "source": [
    "### Tuples\n",
    "A tuple in Python is an immutable ordered collection of elements. Tuples are similar to lists, but unlike lists, they cannot be changed after their creation (i.e., they are immutable). \n",
    "We create tuples with (), separating elements with a comma"
   ]
  },
  {
   "cell_type": "code",
   "execution_count": 37,
   "id": "f3bd14c4-53c1-464f-a8c2-521fe131ce36",
   "metadata": {},
   "outputs": [],
   "source": [
    "x = (1,2,3,4)"
   ]
  },
  {
   "cell_type": "markdown",
   "id": "8c03516a-a3b3-4761-bfff-71b33c29207c",
   "metadata": {},
   "source": [
    "Like lists they are ordered"
   ]
  },
  {
   "cell_type": "code",
   "execution_count": 38,
   "id": "7f0a0ab6-c0e1-4377-8eee-da70d9323196",
   "metadata": {},
   "outputs": [
    {
     "data": {
      "text/plain": [
       "1"
      ]
     },
     "execution_count": 38,
     "metadata": {},
     "output_type": "execute_result"
    }
   ],
   "source": [
    "x[0]"
   ]
  },
  {
   "cell_type": "markdown",
   "id": "97d0b0a9-c5ac-48b9-9ee8-f31e59065685",
   "metadata": {},
   "source": [
    "Like lists they are heterogeneous (can contain different data types)"
   ]
  },
  {
   "cell_type": "code",
   "execution_count": 39,
   "id": "c84ed9fa-2443-430a-9c9b-2a726dca20e8",
   "metadata": {},
   "outputs": [],
   "source": [
    "x = ('hello', 1)"
   ]
  },
  {
   "cell_type": "markdown",
   "id": "ed37fed5-b62b-4dc2-a1f6-60579bfd7c34",
   "metadata": {},
   "source": [
    "Howver, unlike lists they are *immutable*. This means we can't change elements, or add to them. We see when we try to edit an element we get a **TypeError**"
   ]
  },
  {
   "cell_type": "code",
   "execution_count": 40,
   "id": "61a982c3-5031-4106-9fac-bda3646253fb",
   "metadata": {},
   "outputs": [
    {
     "ename": "TypeError",
     "evalue": "'tuple' object does not support item assignment",
     "output_type": "error",
     "traceback": [
      "\u001b[1;31m---------------------------------------------------------------------------\u001b[0m",
      "\u001b[1;31mTypeError\u001b[0m                                 Traceback (most recent call last)",
      "Cell \u001b[1;32mIn[40], line 1\u001b[0m\n\u001b[1;32m----> 1\u001b[0m x[\u001b[38;5;241m0\u001b[39m] \u001b[38;5;241m=\u001b[39m \u001b[38;5;241m5\u001b[39m\n",
      "\u001b[1;31mTypeError\u001b[0m: 'tuple' object does not support item assignment"
     ]
    }
   ],
   "source": [
    "x[0] = 5"
   ]
  },
  {
   "cell_type": "markdown",
   "id": "c39e3ed6-b079-4a65-b794-6ee7a315cf2c",
   "metadata": {},
   "source": [
    "If we want to edit a tuple we can first convert it to a list using the **list()** function"
   ]
  },
  {
   "cell_type": "code",
   "execution_count": 41,
   "id": "66af6a4d-60d2-40a0-af87-5e42f3107dea",
   "metadata": {},
   "outputs": [
    {
     "data": {
      "text/plain": [
       "[5, 1]"
      ]
     },
     "execution_count": 41,
     "metadata": {},
     "output_type": "execute_result"
    }
   ],
   "source": [
    "y = list(x)\n",
    "y[0] = 5\n",
    "y"
   ]
  },
  {
   "cell_type": "markdown",
   "id": "aec5c4e2-897b-4b9d-9ddf-61903c906d8d",
   "metadata": {},
   "source": [
    "If we wish, we may then convert it back to a tuple using the **tuple()** function"
   ]
  },
  {
   "cell_type": "code",
   "execution_count": 42,
   "id": "57cb9ff0-78e7-4c51-b8e2-842652a4bcf7",
   "metadata": {},
   "outputs": [
    {
     "data": {
      "text/plain": [
       "(5, 1)"
      ]
     },
     "execution_count": 42,
     "metadata": {},
     "output_type": "execute_result"
    }
   ],
   "source": [
    "x = tuple(y)\n",
    "x"
   ]
  },
  {
   "cell_type": "markdown",
   "id": "cc9a2f64-3789-47b9-bf0a-77489a031ceb",
   "metadata": {},
   "source": [
    "#### Exercise 3.7\n",
    "\n",
    "Divide every element in x by 2, using the list() function, /= operator, and tuple() function."
   ]
  },
  {
   "cell_type": "code",
   "execution_count": 46,
   "id": "2f80e113-3e07-4669-9ad9-7beb56393bb2",
   "metadata": {},
   "outputs": [],
   "source": [
    "x = (2,4,6)"
   ]
  },
  {
   "cell_type": "code",
   "execution_count": 48,
   "id": "c4e698d2-b341-4def-b781-e41fb7e87269",
   "metadata": {},
   "outputs": [],
   "source": [
    "y = list(x)\n",
    "\n",
    "y[0] /= 2\n",
    "y[1] /= 2\n",
    "y[2] /= 2\n",
    "\n",
    "x = tuple(y)"
   ]
  },
  {
   "cell_type": "markdown",
   "id": "8f8aca56-952d-416e-9c16-98630c72a2c2",
   "metadata": {},
   "source": [
    "## 4: Mapping Type - dictionaries\n",
    "\n",
    "A **dictionary (dict)** is a data structure that stores the value in key: value pairs. Values in a dictionary can be of any data type and can be duplicated, whereas keys can't be repeated and must be immutable. Dictionaries are defined using the syntax {key1:value1, key2:value2}"
   ]
  },
  {
   "cell_type": "code",
   "execution_count": 49,
   "id": "1c127f68-14e5-4d02-b2c7-e1e3ac63d18f",
   "metadata": {},
   "outputs": [],
   "source": [
    "dictionary = {'a':1, 'b':2, 'c':2}"
   ]
  },
  {
   "cell_type": "markdown",
   "id": "07d93450-0937-41d3-bc0e-7ef945332c3a",
   "metadata": {},
   "source": [
    "We then access the values in the dictionary using keys as indeces e.g. dictionary[key] = value"
   ]
  },
  {
   "cell_type": "code",
   "execution_count": 50,
   "id": "d3597a26-8462-4c28-8969-aaeace75f627",
   "metadata": {},
   "outputs": [
    {
     "data": {
      "text/plain": [
       "2"
      ]
     },
     "execution_count": 50,
     "metadata": {},
     "output_type": "execute_result"
    }
   ],
   "source": [
    "dictionary['b']"
   ]
  },
  {
   "cell_type": "markdown",
   "id": "82278c15-6b0d-4a27-b05d-c2bc1693c6db",
   "metadata": {},
   "source": [
    "We can add new elements to the dictionary by assigning values to dictionary[key] as follows"
   ]
  },
  {
   "cell_type": "code",
   "execution_count": 51,
   "id": "bf055f6f-705a-4eef-9b1a-ffe39c3eac6d",
   "metadata": {},
   "outputs": [
    {
     "data": {
      "text/plain": [
       "4"
      ]
     },
     "execution_count": 51,
     "metadata": {},
     "output_type": "execute_result"
    }
   ],
   "source": [
    "dictionary['d'] = 4\n",
    "dictionary['d']"
   ]
  },
  {
   "cell_type": "markdown",
   "id": "05e7167d-9edd-41ea-98a9-e4db73983851",
   "metadata": {},
   "source": [
    "#### Excercise 4.1\n",
    "Make a dictionary with the keys 'name' and 'age', and your own details."
   ]
  },
  {
   "cell_type": "code",
   "execution_count": 61,
   "id": "eea605d1-0cf5-44cb-aed7-a529f117be4f",
   "metadata": {},
   "outputs": [
    {
     "name": "stdout",
     "output_type": "stream",
     "text": [
      "my name is Kaiya and my age is 25\n"
     ]
    }
   ],
   "source": [
    "dictionary = {'name':'Kaiya', 'age':'25'}\n",
    "\n",
    "print(f'my name is {dictionary['name']} and my age is {dictionary['age']}')"
   ]
  },
  {
   "cell_type": "markdown",
   "id": "fd7bcd52-0b9e-4a5f-9921-44ab5c0d8ee9",
   "metadata": {},
   "source": [
    "#### Excercise 4.2\n",
    "Add your occupation to the dictionary with the key 'occupation'"
   ]
  },
  {
   "cell_type": "code",
   "execution_count": 65,
   "id": "47896795-1e9a-4137-8938-ca40381a9ac6",
   "metadata": {},
   "outputs": [],
   "source": [
    "dictionary['occupation'] = 'Engineer'"
   ]
  },
  {
   "cell_type": "code",
   "execution_count": 66,
   "id": "d47d67d8-74db-421b-82f0-1ef767bab8ee",
   "metadata": {},
   "outputs": [
    {
     "name": "stdout",
     "output_type": "stream",
     "text": [
      "my name is Kaiya, my age is 25, and my occupation is Engineer\n"
     ]
    }
   ],
   "source": [
    "print(f'my name is {dictionary['name']}, my age is {dictionary['age']}, and my occupation is {dictionary['occupation']}')"
   ]
  },
  {
   "cell_type": "code",
   "execution_count": 64,
   "id": "605c4352-a529-4a61-af94-9a122aa4c22c",
   "metadata": {},
   "outputs": [
    {
     "data": {
      "text/plain": [
       "{'name': 'Kaiya', 'age': '25'}"
      ]
     },
     "execution_count": 64,
     "metadata": {},
     "output_type": "execute_result"
    }
   ],
   "source": [
    "dictionary"
   ]
  },
  {
   "cell_type": "markdown",
   "id": "c352a1b8-4f16-493c-aa50-5ae300eb7d00",
   "metadata": {},
   "source": [
    "## 5: Set Type\n",
    "A Python set is an unordered collection of multiple items, which may have different datatypes. In Python, sets are mutable, unindexed and do not contain duplicates. The order of elements in a set is not preserved and can change. The most basic and efficient method for creating a set is using curly braces."
   ]
  },
  {
   "cell_type": "code",
   "execution_count": 67,
   "id": "12f475e0-be05-4a7e-913b-a5e2c40335c0",
   "metadata": {},
   "outputs": [
    {
     "data": {
      "text/plain": [
       "{1, 2, 3}"
      ]
     },
     "execution_count": 67,
     "metadata": {},
     "output_type": "execute_result"
    }
   ],
   "source": [
    "my_set = {1,1,1,2,3}\n",
    "my_set"
   ]
  },
  {
   "cell_type": "markdown",
   "id": "b8905805-e88b-482c-9fde-d25447ef173a",
   "metadata": {},
   "source": [
    "We see that unlike lists, sets cannot contain duplicates - so any duplicates are not stored. This can be really useful when we want to know the unique elements within a group. For example, if we have a long list we can convert it to a set to view just its unique elements we can do so as follows."
   ]
  },
  {
   "cell_type": "code",
   "execution_count": 68,
   "id": "9efa517a-4a11-4224-a468-a1671cd6021d",
   "metadata": {},
   "outputs": [
    {
     "data": {
      "text/plain": [
       "{1, 2, 3, 4, 5, 10, 17, 18, 19, 28, 29, 31, 41, 42}"
      ]
     },
     "execution_count": 68,
     "metadata": {},
     "output_type": "execute_result"
    }
   ],
   "source": [
    "my_list = [1,1,1,1,1,1,1,1,1,2,3,4,5,17,17,17,17,18,19,31,41,42,42,42,42,42,42,18,28,29,10]\n",
    "my_set = set(my_list)\n",
    "my_set"
   ]
  },
  {
   "cell_type": "markdown",
   "id": "b85f4f64-b4c6-4263-bca9-9386a5be24cc",
   "metadata": {},
   "source": [
    "Unlike a list or a tuple, we can't access ordered elements as a set is unordered and therefore unindexable"
   ]
  },
  {
   "cell_type": "code",
   "execution_count": 69,
   "id": "db6784e0-7e46-42e7-b615-c375decaa17a",
   "metadata": {},
   "outputs": [
    {
     "ename": "TypeError",
     "evalue": "'set' object is not subscriptable",
     "output_type": "error",
     "traceback": [
      "\u001b[1;31m---------------------------------------------------------------------------\u001b[0m",
      "\u001b[1;31mTypeError\u001b[0m                                 Traceback (most recent call last)",
      "Cell \u001b[1;32mIn[69], line 1\u001b[0m\n\u001b[1;32m----> 1\u001b[0m my_set[\u001b[38;5;241m0\u001b[39m]\n",
      "\u001b[1;31mTypeError\u001b[0m: 'set' object is not subscriptable"
     ]
    }
   ],
   "source": [
    "my_set[0]"
   ]
  },
  {
   "cell_type": "markdown",
   "id": "b77ce938-f592-473a-8e27-6f2f305da5eb",
   "metadata": {},
   "source": [
    "Like a list they are *muteable* meaning we can edit them, however we cannot use the same built-in Python operators"
   ]
  },
  {
   "cell_type": "code",
   "execution_count": 70,
   "id": "09b0e733-1055-4436-85ed-67423063fc38",
   "metadata": {},
   "outputs": [
    {
     "ename": "TypeError",
     "evalue": "unsupported operand type(s) for +=: 'set' and 'set'",
     "output_type": "error",
     "traceback": [
      "\u001b[1;31m---------------------------------------------------------------------------\u001b[0m",
      "\u001b[1;31mTypeError\u001b[0m                                 Traceback (most recent call last)",
      "Cell \u001b[1;32mIn[70], line 1\u001b[0m\n\u001b[1;32m----> 1\u001b[0m my_set \u001b[38;5;241m+\u001b[39m\u001b[38;5;241m=\u001b[39m {\u001b[38;5;241m900\u001b[39m}\n\u001b[0;32m      2\u001b[0m my_set\n",
      "\u001b[1;31mTypeError\u001b[0m: unsupported operand type(s) for +=: 'set' and 'set'"
     ]
    }
   ],
   "source": [
    "my_set += {900}\n",
    "my_set"
   ]
  },
  {
   "cell_type": "markdown",
   "id": "b793eddd-4ec9-4b54-a10e-3c09849be834",
   "metadata": {},
   "source": [
    "Instead we need to use *methods*, which are functions built-in to the object itself. This is what is known as **object-oriented** programming, one of the main benefits and an essential part of Python. We will learn about how these work in Week 7."
   ]
  },
  {
   "cell_type": "markdown",
   "id": "d552ddc9-2530-47a9-9327-b15f73c66b43",
   "metadata": {},
   "source": [
    "If we wish to create a set that cannot be edited (i.e. is *immutable*) we can use a **frozenset**. This is functionally the same in all other regards except that it can't be changed. We can convert a set to a frozenset when we no longer want to make changes as follows"
   ]
  },
  {
   "cell_type": "code",
   "execution_count": 71,
   "id": "c63a6ee4-12b1-46c3-bfea-71e7853ab860",
   "metadata": {},
   "outputs": [
    {
     "data": {
      "text/plain": [
       "frozenset({1, 2, 3, 4, 5, 10, 17, 18, 19, 28, 29, 31, 41, 42})"
      ]
     },
     "execution_count": 71,
     "metadata": {},
     "output_type": "execute_result"
    }
   ],
   "source": [
    "frozen_set = frozenset(my_set)\n",
    "frozen_set"
   ]
  },
  {
   "cell_type": "markdown",
   "id": "1cedbf7a-9b9a-4d60-992d-b76afc7e3a01",
   "metadata": {},
   "source": [
    "## 6: Boolean Type\n",
    "**Boolean (bool)** values are *truth* values assigned either **True** or **False**. They are usually used to check the truth of a statement, and are very useful for *control flows*, which we will learn about in Week 3."
   ]
  },
  {
   "cell_type": "code",
   "execution_count": 72,
   "id": "d0b95334-3588-40d7-8e4c-68715d433e18",
   "metadata": {},
   "outputs": [
    {
     "data": {
      "text/plain": [
       "bool"
      ]
     },
     "execution_count": 72,
     "metadata": {},
     "output_type": "execute_result"
    }
   ],
   "source": [
    "a = True\n",
    "type(a)"
   ]
  },
  {
   "cell_type": "code",
   "execution_count": 73,
   "id": "36a2d510-177e-4f0d-89b9-bbdf9a4d19f5",
   "metadata": {},
   "outputs": [
    {
     "data": {
      "text/plain": [
       "bool"
      ]
     },
     "execution_count": 73,
     "metadata": {},
     "output_type": "execute_result"
    }
   ],
   "source": [
    "b = False\n",
    "type(b)"
   ]
  },
  {
   "cell_type": "markdown",
   "id": "fedb4ecf-135c-4f7e-b5f7-0dfb9a16ae1a",
   "metadata": {},
   "source": [
    "If we convert anything empty or equal to 0 to a boolean it will be considered False"
   ]
  },
  {
   "cell_type": "code",
   "execution_count": 74,
   "id": "d7ed859a-08e7-491b-90ba-c040e4eb106f",
   "metadata": {},
   "outputs": [
    {
     "name": "stdout",
     "output_type": "stream",
     "text": [
      "False\n",
      "False\n",
      "False\n",
      "False\n"
     ]
    }
   ],
   "source": [
    "print(bool(0))\n",
    "print(bool(None))\n",
    "print(bool({}))\n",
    "print(bool(''))"
   ]
  },
  {
   "cell_type": "markdown",
   "id": "f0269dd0-7ae0-4ceb-8c73-d9e848140edc",
   "metadata": {},
   "source": [
    "If we convert anything not empty, or unequal to 0, to a boolean it will be considered True"
   ]
  },
  {
   "cell_type": "code",
   "execution_count": 75,
   "id": "b437a94c-d9d1-4e06-99bd-ca0d4b16db77",
   "metadata": {},
   "outputs": [
    {
     "name": "stdout",
     "output_type": "stream",
     "text": [
      "True\n",
      "True\n",
      "True\n",
      "True\n"
     ]
    }
   ],
   "source": [
    "print(bool(5))\n",
    "print(bool({1}))\n",
    "print(bool((1,2)))\n",
    "print(bool('hello'))"
   ]
  },
  {
   "cell_type": "markdown",
   "id": "323fd4c5-b010-4597-9e9f-8275fa318f78",
   "metadata": {},
   "source": [
    "The *numerical* interpretation of True is 1, and the numerical interpretation of False is 0"
   ]
  },
  {
   "cell_type": "code",
   "execution_count": 76,
   "id": "82919f2a-8df4-4352-b8c3-8e454d610524",
   "metadata": {},
   "outputs": [
    {
     "name": "stdout",
     "output_type": "stream",
     "text": [
      "1\n",
      "0\n"
     ]
    }
   ],
   "source": [
    "print(int(True))\n",
    "print(int(False))"
   ]
  },
  {
   "cell_type": "markdown",
   "id": "ec7fc776-fbe8-4e09-a290-b3240107ff15",
   "metadata": {},
   "source": [
    "#### Boolean operators\n",
    "We can evaluate the truth of a statement using boolean operators."
   ]
  },
  {
   "cell_type": "code",
   "execution_count": 77,
   "id": "76d2ccec-3e36-401c-aa5b-7c33dfea0902",
   "metadata": {},
   "outputs": [
    {
     "data": {
      "text/plain": [
       "True"
      ]
     },
     "execution_count": 77,
     "metadata": {},
     "output_type": "execute_result"
    }
   ],
   "source": [
    "2 == 2 # a==b assesses whether a is equivalent to b"
   ]
  },
  {
   "cell_type": "code",
   "execution_count": 78,
   "id": "6b808026-c2ca-4077-9852-cdf5ff8430e1",
   "metadata": {},
   "outputs": [
    {
     "data": {
      "text/plain": [
       "False"
      ]
     },
     "execution_count": 78,
     "metadata": {},
     "output_type": "execute_result"
    }
   ],
   "source": [
    "2 != 2 # a==b assesses whether a is not equivalent to b"
   ]
  },
  {
   "cell_type": "code",
   "execution_count": 79,
   "id": "29a90ffc-4c93-4a51-b702-7e08bfaabdaa",
   "metadata": {},
   "outputs": [
    {
     "data": {
      "text/plain": [
       "False"
      ]
     },
     "execution_count": 79,
     "metadata": {},
     "output_type": "execute_result"
    }
   ],
   "source": [
    "3 <= 2 # a<=b assesses whether a is less than or equal to b"
   ]
  },
  {
   "cell_type": "code",
   "execution_count": 80,
   "id": "cc2573b9-bb4a-41ca-bbaf-565e5713c67e",
   "metadata": {},
   "outputs": [
    {
     "data": {
      "text/plain": [
       "True"
      ]
     },
     "execution_count": 80,
     "metadata": {},
     "output_type": "execute_result"
    }
   ],
   "source": [
    "4 >= 1 # a>=b assesses whether a is greater than or equal to b"
   ]
  },
  {
   "cell_type": "code",
   "execution_count": 81,
   "id": "2ab23afb-ae45-4d6f-8352-1b32fcc2ae7e",
   "metadata": {},
   "outputs": [
    {
     "data": {
      "text/plain": [
       "False"
      ]
     },
     "execution_count": 81,
     "metadata": {},
     "output_type": "execute_result"
    }
   ],
   "source": [
    "2 < 2 # a<b assesses whether a is less than b"
   ]
  },
  {
   "cell_type": "code",
   "execution_count": 82,
   "id": "10d7d5bf-0e93-487b-ba36-29326ca075ac",
   "metadata": {},
   "outputs": [
    {
     "data": {
      "text/plain": [
       "False"
      ]
     },
     "execution_count": 82,
     "metadata": {},
     "output_type": "execute_result"
    }
   ],
   "source": [
    "3 > 4 # a>b assesses whether a is more than b"
   ]
  },
  {
   "cell_type": "code",
   "execution_count": 83,
   "id": "81e06cbb-222e-4383-b9b9-5d4068b6c4da",
   "metadata": {},
   "outputs": [
    {
     "data": {
      "text/plain": [
       "True"
      ]
     },
     "execution_count": 83,
     "metadata": {},
     "output_type": "execute_result"
    }
   ],
   "source": [
    "not 3 > 4 # we can write not before a statement to assess whether it is True that the following statement is False"
   ]
  },
  {
   "cell_type": "code",
   "execution_count": 84,
   "id": "cf104463-ee94-41e2-a323-f59c23d20772",
   "metadata": {},
   "outputs": [
    {
     "data": {
      "text/plain": [
       "False"
      ]
     },
     "execution_count": 84,
     "metadata": {},
     "output_type": "execute_result"
    }
   ],
   "source": [
    "2==2 & 3>4 # we can write & between statements to check whether both are True"
   ]
  },
  {
   "cell_type": "code",
   "execution_count": 85,
   "id": "2807d085-e641-4a5f-ba21-97af1e2b6721",
   "metadata": {},
   "outputs": [
    {
     "data": {
      "text/plain": [
       "False"
      ]
     },
     "execution_count": 85,
     "metadata": {},
     "output_type": "execute_result"
    }
   ],
   "source": [
    "2==2 and 3>4 # we can write and between statements to check whether both are True"
   ]
  },
  {
   "cell_type": "code",
   "execution_count": 86,
   "id": "01c41dd4-f2d4-454c-bd51-e6c5aadb5d65",
   "metadata": {},
   "outputs": [
    {
     "data": {
      "text/plain": [
       "False"
      ]
     },
     "execution_count": 86,
     "metadata": {},
     "output_type": "execute_result"
    }
   ],
   "source": [
    "2==2 | 3>4 # we can write | between statements to check whether at least one of them is True"
   ]
  },
  {
   "cell_type": "code",
   "execution_count": 87,
   "id": "22422493-3a76-4e92-894b-5312dda2788a",
   "metadata": {},
   "outputs": [
    {
     "data": {
      "text/plain": [
       "True"
      ]
     },
     "execution_count": 87,
     "metadata": {},
     "output_type": "execute_result"
    }
   ],
   "source": [
    "2==2 or 3>4 # we can write or between statements to check whether at least one of them is True"
   ]
  },
  {
   "cell_type": "markdown",
   "id": "c2d61a01-3a66-4284-8f5f-99f945fd87a6",
   "metadata": {},
   "source": [
    "## 7: Binary Type\n",
    "There are additional types with Python known as binary types. These are used for a lot of behind-the-scenes memory storage but we don't tend to use them much in our day-to-day coding work (especially when we're just starting out!). You can find out more about the three binary types in the links below:\n",
    "* [Bytes](https://www.geeksforgeeks.org/python/python-bytes-method/)\n",
    "* [Bytearrays](https://www.geeksforgeeks.org/python/python-bytearray-function/)\n",
    "* [Memoryviews](https://www.geeksforgeeks.org/python/memoryview-in-python/)"
   ]
  },
  {
   "cell_type": "markdown",
   "id": "f916cc41-6c74-4462-8097-a152453369fe",
   "metadata": {},
   "source": [
    "Well done for reaching the end of Week 1! Answers to this worksheet are available [here](https://github.com/kaiyaraby/wind_energy_analytics_ke/tree/main/Python/Week%201%20-%20Introduction%20to%20Python%20Fundamentals).\n",
    "\n",
    "The 'office-hour/tutorial' for this week will be on Wednesday 23rd from 15:00-16:00 BST. Please attend if you have any questions regarding this work, or would like to carry out this session with assistance available.\n",
    "\n",
    "The next session (Week 3) will cover control flows such as conditional statements (if, elif, else) and loops (for, while).\n",
    "\n",
    "Please contact me at kaiya.raby@nadara.com for any further information or assistance."
   ]
  }
 ],
 "metadata": {
  "kernelspec": {
   "display_name": "Python 3 (ipykernel)",
   "language": "python",
   "name": "python3"
  },
  "language_info": {
   "codemirror_mode": {
    "name": "ipython",
    "version": 3
   },
   "file_extension": ".py",
   "mimetype": "text/x-python",
   "name": "python",
   "nbconvert_exporter": "python",
   "pygments_lexer": "ipython3",
   "version": "3.12.4"
  }
 },
 "nbformat": 4,
 "nbformat_minor": 5
}
